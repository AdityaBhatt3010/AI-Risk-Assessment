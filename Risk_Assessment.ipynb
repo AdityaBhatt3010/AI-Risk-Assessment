{
  "nbformat": 4,
  "nbformat_minor": 0,
  "metadata": {
    "colab": {
      "provenance": [],
      "authorship_tag": "ABX9TyMUACwiZktyzGHQLD0d1YeP",
      "include_colab_link": true
    },
    "kernelspec": {
      "name": "python3",
      "display_name": "Python 3"
    },
    "language_info": {
      "name": "python"
    }
  },
  "cells": [
    {
      "cell_type": "markdown",
      "metadata": {
        "id": "view-in-github",
        "colab_type": "text"
      },
      "source": [
        "<a href=\"https://colab.research.google.com/github/AdityaBhatt3010/AI-Risk-Assessment/blob/main/Risk_Assessment.ipynb\" target=\"_parent\"><img src=\"https://colab.research.google.com/assets/colab-badge.svg\" alt=\"Open In Colab\"/></a>"
      ]
    },
    {
      "cell_type": "code",
      "source": [
        "!pip install spacy PyMuPDF fpdf"
      ],
      "metadata": {
        "colab": {
          "base_uri": "https://localhost:8080/"
        },
        "id": "frGCXY4Gky63",
        "outputId": "67e5bdbe-3887-493a-aa85-62e5194b740f"
      },
      "execution_count": 3,
      "outputs": [
        {
          "output_type": "stream",
          "name": "stdout",
          "text": []
        }
      ]
    },
    {
      "cell_type": "code",
      "source": [
        "!python -m spacy download en_core_web_sm"
      ],
      "metadata": {
        "colab": {
          "base_uri": "https://localhost:8080/"
        },
        "id": "tfvR-DwdlLuz",
        "outputId": "e7349a51-f715-4441-9152-08155e7bf96d"
      },
      "execution_count": 4,
      "outputs": [
        {
          "output_type": "stream",
          "name": "stdout",
          "text": [
            "Collecting en-core-web-sm==3.8.0\n",
            "  Downloading https://github.com/explosion/spacy-models/releases/download/en_core_web_sm-3.8.0/en_core_web_sm-3.8.0-py3-none-any.whl (12.8 MB)\n",
            "\u001b[2K     \u001b[90m━━━━━━━━━━━━━━━━━━━━━━━━━━━━━━━━━━━━━━━━\u001b[0m \u001b[32m12.8/12.8 MB\u001b[0m \u001b[31m68.9 MB/s\u001b[0m eta \u001b[36m0:00:00\u001b[0m\n",
            "\u001b[?25h\u001b[38;5;2m✔ Download and installation successful\u001b[0m\n",
            "You can now load the package via spacy.load('en_core_web_sm')\n",
            "\u001b[38;5;3m⚠ Restart to reload dependencies\u001b[0m\n",
            "If you are in a Jupyter or Colab notebook, you may need to restart Python in\n",
            "order to load all the package's dependencies. You can do this by selecting the\n",
            "'Restart kernel' or 'Restart runtime' option.\n"
          ]
        }
      ]
    },
    {
      "cell_type": "code",
      "source": [
        "import fitz  # PyMuPDF\n",
        "import spacy\n",
        "import re\n",
        "import os\n",
        "\n",
        "# Load English NLP model\n",
        "nlp = spacy.load(\"en_core_web_sm\")"
      ],
      "metadata": {
        "id": "JScAYvlVl9Or"
      },
      "execution_count": 5,
      "outputs": []
    },
    {
      "cell_type": "code",
      "source": [
        "# Keywords for risk indicators\n",
        "RISK_INDICATORS = {\n",
        "    \"third_party_data_sharing\": [\n",
        "        \"third-party\", \"3rd party\", \"external vendor\", \"data sharing\", \"shared with vendors\"\n",
        "    ],\n",
        "    \"log_retention\": [\n",
        "        \"log retention\", \"retention period\", \"logging policy\", \"audit log retention\", \"data retention\"\n",
        "    ],\n",
        "    \"source_code_review\": [\n",
        "        \"source code review\", \"code inspection\", \"static analysis\", \"manual code review\"\n",
        "    ]\n",
        "}\n",
        "\n",
        "# Regex for technical segments\n",
        "FRAMEWORK_SEGMENTS = {\n",
        "    \"ports\": r\"\\bport\\s*\\d{1,5}\\b\",\n",
        "    \"apis\": r\"\\bAPI(?:s)?\\b\",\n",
        "    \"modules\": r\"\\bmodules?\\b\",\n",
        "}"
      ],
      "metadata": {
        "id": "jnqjsThdmHoM"
      },
      "execution_count": 17,
      "outputs": []
    },
    {
      "cell_type": "code",
      "source": [
        "# --- PDF Text Extractor ---\n",
        "def extract_text_from_pdf(pdf_path):\n",
        "    if not os.path.exists(pdf_path):\n",
        "        raise FileNotFoundError(\"PDF file not found!\")\n",
        "\n",
        "    print(f\"📄 Reading PDF: {pdf_path}\")\n",
        "    doc = fitz.open(pdf_path)\n",
        "    text = \"\"\n",
        "    for page in doc:\n",
        "        text += page.get_text()\n",
        "    return text"
      ],
      "metadata": {
        "id": "gHdiMfHBmRDo"
      },
      "execution_count": 7,
      "outputs": []
    },
    {
      "cell_type": "code",
      "source": [
        "\n",
        "# --- Analyzer Function ---\n",
        "def analyze_text(text):\n",
        "    text_lower = text.lower()\n",
        "    doc = nlp(text_lower)\n",
        "\n",
        "    result = {\n",
        "        \"risk_indicators\": {},\n",
        "        \"framework_segments\": {}\n",
        "    }\n",
        "\n",
        "    # Match keywords for each risk indicator\n",
        "    for indicator, keywords in RISK_INDICATORS.items():\n",
        "        result[\"risk_indicators\"][indicator] = any(keyword in text_lower for keyword in keywords)\n",
        "\n",
        "    # Use regex to find mentions of framework segments\n",
        "    for segment, pattern in FRAMEWORK_SEGMENTS.items():\n",
        "        matches = re.findall(pattern, text, flags=re.IGNORECASE)\n",
        "        result[\"framework_segments\"][segment] = list(set(matches)) if matches else []\n",
        "\n",
        "    return result"
      ],
      "metadata": {
        "id": "EdIM6QwrmVdf"
      },
      "execution_count": 8,
      "outputs": []
    },
    {
      "cell_type": "code",
      "source": [
        "# --- Display Results ---\n",
        "def print_analysis(findings):\n",
        "    print(\"\\n📊 RISK INDICATORS:\")\n",
        "    for indicator, present in findings[\"risk_indicators\"].items():\n",
        "        status = \"✅ Detected\" if present else \"❌ Not Found\"\n",
        "        print(f\"  - {indicator.replace('_', ' ').title()}: {status}\")\n",
        "\n",
        "    print(\"\\n🔍 FRAMEWORK SEGMENTS:\")\n",
        "    for segment, items in findings[\"framework_segments\"].items():\n",
        "        listed = ', '.join(items) if items else \"None\"\n",
        "        print(f\"  - {segment.title()}: {listed}\")"
      ],
      "metadata": {
        "id": "aAiymDtDmY9A"
      },
      "execution_count": 9,
      "outputs": []
    },
    {
      "cell_type": "code",
      "source": [
        "# --- Main Execution ---\n",
        "if __name__ == \"__main__\":\n",
        "    pdf_file = \"/content/sample_soc2_report.pdf\"\n",
        "    try:\n",
        "        raw_text = extract_text_from_pdf(pdf_file)\n",
        "        findings = analyze_text(raw_text)\n",
        "        print_analysis(findings)\n",
        "    except Exception as e:\n",
        "        print(f\"❌ Error: {e}\")"
      ],
      "metadata": {
        "colab": {
          "base_uri": "https://localhost:8080/"
        },
        "id": "m7BC1HhAmbuC",
        "outputId": "00e1acfd-a107-424b-e799-de3ddf0c2a92"
      },
      "execution_count": 18,
      "outputs": [
        {
          "output_type": "stream",
          "name": "stdout",
          "text": [
            "📄 Reading PDF: /content/sample_soc2_report.pdf\n",
            "\n",
            "📊 RISK INDICATORS:\n",
            "  - Third Party Data Sharing: ✅ Detected\n",
            "  - Log Retention: ✅ Detected\n",
            "  - Source Code Review: ✅ Detected\n",
            "\n",
            "🔍 FRAMEWORK SEGMENTS:\n",
            "  - Ports: port 22, port 443\n",
            "  - Apis: APIs, API\n",
            "  - Modules: modules, Modules, Module\n"
          ]
        }
      ]
    }
  ]
}
